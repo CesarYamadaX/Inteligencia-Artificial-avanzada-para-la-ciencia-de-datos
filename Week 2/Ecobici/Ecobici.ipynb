{
 "cells": [
  {
   "cell_type": "code",
   "execution_count": 3,
   "id": "d51175a7",
   "metadata": {},
   "outputs": [],
   "source": [
    "import pandas as pd\n",
    "import numpy as np\n",
    "import matplotlib.pyplot as plt\n",
    "import seaborn as sns\n",
    "import requests\n",
    "import zipfile\n",
    "import io\n",
    "import os"
   ]
  },
  {
   "cell_type": "code",
   "execution_count": 4,
   "id": "b6f9068d",
   "metadata": {},
   "outputs": [
    {
     "name": "stdout",
     "output_type": "stream",
     "text": [
      "Archivo 2025-04.csv extraído correctamente.\n",
      "Leyendo datos desde archivo local: 2025-04.csv\n",
      "Lectura completada con éxito\n",
      "Lectura completada con éxito\n"
     ]
    }
   ],
   "source": [
    "zip_file_name = \"2025-04.zip\"\n",
    "csv_file_name = \"2025-04.csv\"\n",
    "\n",
    "# Descomprimir el archivo ZIP si existe\n",
    "if os.path.exists(zip_file_name):\n",
    "    with zipfile.ZipFile(zip_file_name, 'r') as zip_ref:\n",
    "        zip_ref.extract(csv_file_name)\n",
    "    print(f\"Archivo {csv_file_name} extraído correctamente.\")\n",
    "else:\n",
    "    print(f\"No se encontró el archivo ZIP: {zip_file_name}\")\n",
    "\n",
    "# Leer el archivo CSV extraído\n",
    "print(f\"Leyendo datos desde archivo local: {csv_file_name}\")\n",
    "try:\n",
    "    df_raw = pd.read_csv(csv_file_name)\n",
    "    print(\"Lectura completada con éxito\")\n",
    "except Exception as e:\n",
    "    print(f\"Error al leer el archivo: {e}\")\n",
    "    df_raw = pd.DataFrame()"
   ]
  },
  {
   "cell_type": "code",
   "execution_count": 5,
   "id": "ae41f95b",
   "metadata": {},
   "outputs": [
    {
     "data": {
      "text/html": [
       "<div>\n",
       "<style scoped>\n",
       "    .dataframe tbody tr th:only-of-type {\n",
       "        vertical-align: middle;\n",
       "    }\n",
       "\n",
       "    .dataframe tbody tr th {\n",
       "        vertical-align: top;\n",
       "    }\n",
       "\n",
       "    .dataframe thead th {\n",
       "        text-align: right;\n",
       "    }\n",
       "</style>\n",
       "<table border=\"1\" class=\"dataframe\">\n",
       "  <thead>\n",
       "    <tr style=\"text-align: right;\">\n",
       "      <th></th>\n",
       "      <th>Genero_Usuario</th>\n",
       "      <th>Edad_Usuario</th>\n",
       "      <th>Bici</th>\n",
       "      <th>Ciclo_Estacion_Retiro</th>\n",
       "      <th>Fecha_Retiro</th>\n",
       "      <th>Hora_Retiro</th>\n",
       "      <th>Ciclo_EstacionArribo</th>\n",
       "      <th>Fecha_Arribo</th>\n",
       "      <th>Hora_Arribo</th>\n",
       "    </tr>\n",
       "  </thead>\n",
       "  <tbody>\n",
       "    <tr>\n",
       "      <th>0</th>\n",
       "      <td>F</td>\n",
       "      <td>22.0</td>\n",
       "      <td>2586485</td>\n",
       "      <td>107-108</td>\n",
       "      <td>31/03/2025</td>\n",
       "      <td>23:34:46</td>\n",
       "      <td>181</td>\n",
       "      <td>01/04/2025</td>\n",
       "      <td>00:00:12</td>\n",
       "    </tr>\n",
       "    <tr>\n",
       "      <th>1</th>\n",
       "      <td>M</td>\n",
       "      <td>50.0</td>\n",
       "      <td>8152522</td>\n",
       "      <td>384</td>\n",
       "      <td>31/03/2025</td>\n",
       "      <td>23:43:51</td>\n",
       "      <td>387</td>\n",
       "      <td>01/04/2025</td>\n",
       "      <td>00:00:16</td>\n",
       "    </tr>\n",
       "    <tr>\n",
       "      <th>2</th>\n",
       "      <td>M</td>\n",
       "      <td>24.0</td>\n",
       "      <td>4219945</td>\n",
       "      <td>021</td>\n",
       "      <td>31/03/2025</td>\n",
       "      <td>23:42:36</td>\n",
       "      <td>548</td>\n",
       "      <td>01/04/2025</td>\n",
       "      <td>00:00:23</td>\n",
       "    </tr>\n",
       "    <tr>\n",
       "      <th>3</th>\n",
       "      <td>M</td>\n",
       "      <td>32.0</td>\n",
       "      <td>2286540</td>\n",
       "      <td>271-272</td>\n",
       "      <td>31/03/2025</td>\n",
       "      <td>23:57:16</td>\n",
       "      <td>450</td>\n",
       "      <td>01/04/2025</td>\n",
       "      <td>00:00:31</td>\n",
       "    </tr>\n",
       "    <tr>\n",
       "      <th>4</th>\n",
       "      <td>M</td>\n",
       "      <td>26.0</td>\n",
       "      <td>5017868</td>\n",
       "      <td>538</td>\n",
       "      <td>31/03/2025</td>\n",
       "      <td>23:46:23</td>\n",
       "      <td>012</td>\n",
       "      <td>01/04/2025</td>\n",
       "      <td>00:00:31</td>\n",
       "    </tr>\n",
       "  </tbody>\n",
       "</table>\n",
       "</div>"
      ],
      "text/plain": [
       "  Genero_Usuario  Edad_Usuario     Bici Ciclo_Estacion_Retiro Fecha_Retiro  \\\n",
       "0              F          22.0  2586485               107-108   31/03/2025   \n",
       "1              M          50.0  8152522                   384   31/03/2025   \n",
       "2              M          24.0  4219945                   021   31/03/2025   \n",
       "3              M          32.0  2286540               271-272   31/03/2025   \n",
       "4              M          26.0  5017868                   538   31/03/2025   \n",
       "\n",
       "  Hora_Retiro Ciclo_EstacionArribo Fecha_Arribo Hora_Arribo  \n",
       "0    23:34:46                  181   01/04/2025    00:00:12  \n",
       "1    23:43:51                  387   01/04/2025    00:00:16  \n",
       "2    23:42:36                  548   01/04/2025    00:00:23  \n",
       "3    23:57:16                  450   01/04/2025    00:00:31  \n",
       "4    23:46:23                  012   01/04/2025    00:00:31  "
      ]
     },
     "execution_count": 5,
     "metadata": {},
     "output_type": "execute_result"
    }
   ],
   "source": [
    "df_raw.head()"
   ]
  },
  {
   "cell_type": "code",
   "execution_count": 6,
   "id": "7ba40868",
   "metadata": {},
   "outputs": [
    {
     "name": "stdout",
     "output_type": "stream",
     "text": [
      "Columna 'Duracion_minutos' creada en minutos usando Fecha/Hora de Retiro y Arribo.\n"
     ]
    }
   ],
   "source": [
    "# Crear la columna de duración del viaje en minutos\n",
    "if 'df_raw' in locals() and not df_raw.empty:\n",
    "    if 'Fecha_Retiro' in df_raw.columns and 'Hora_Retiro' in df_raw.columns and 'Fecha_Arribo' in df_raw.columns and 'Hora_Arribo' in df_raw.columns:\n",
    "        # Unir fecha y hora para obtener el datetime completo\n",
    "        df_raw['Fecha_origen_recorrido'] = pd.to_datetime(df_raw['Fecha_Retiro'] + ' ' + df_raw['Hora_Retiro'], dayfirst=True)\n",
    "        df_raw['Fecha_destino_recorrido'] = pd.to_datetime(df_raw['Fecha_Arribo'] + ' ' + df_raw['Hora_Arribo'], dayfirst=True)\n",
    "        df_raw['Duracion_minutos'] = (df_raw['Fecha_destino_recorrido'] - df_raw['Fecha_origen_recorrido']).dt.total_seconds() / 60\n",
    "        print(\"Columna 'Duracion_minutos' creada en minutos usando Fecha/Hora de Retiro y Arribo.\")\n",
    "    else:\n",
    "        print(\"No se encontraron columnas adecuadas para calcular la duración.\")\n",
    "else:\n",
    "    print(\"No hay datos disponibles para crear la columna de duración.\")"
   ]
  },
  {
   "cell_type": "code",
   "execution_count": 7,
   "id": "4140c3b1",
   "metadata": {},
   "outputs": [
    {
     "name": "stdout",
     "output_type": "stream",
     "text": [
      "Columnas de fecha y hora eliminadas.\n"
     ]
    }
   ],
   "source": [
    "# Eliminar columnas de fecha y hora que ya no son necesarias\n",
    "df_raw = df_raw.drop(['Fecha_Retiro', 'Hora_Retiro', 'Fecha_Arribo', 'Hora_Arribo'], axis=1)\n",
    "print('Columnas de fecha y hora eliminadas.')"
   ]
  },
  {
   "cell_type": "code",
   "execution_count": 8,
   "id": "8295858c",
   "metadata": {},
   "outputs": [
    {
     "name": "stdout",
     "output_type": "stream",
     "text": [
      "Columna Tipo_viaje agregada.\n",
      "\n",
      "Conteo de viajes por categoría de duración:\n",
      "Tipo_viaje\n",
      "Medio    747951\n",
      "Corto    693567\n",
      "Largo    286469\n",
      "Name: count, dtype: int64\n"
     ]
    }
   ],
   "source": [
    "# Clasificar los viajes por duración: corto, medio, largo\n",
    "def clasificar_viaje(minutos):\n",
    "    if minutos <= 10:\n",
    "        return 'Corto'\n",
    "    elif minutos <= 25:\n",
    "        return 'Medio'\n",
    "    else:\n",
    "        return 'Largo'\n",
    "df_raw['Tipo_viaje'] = df_raw['Duracion_minutos'].apply(clasificar_viaje)\n",
    "print('Columna Tipo_viaje agregada.')\n",
    "\n",
    "# Mostrar el conteo de valores en la columna 'Tipo_viaje'\n",
    "print(\"\\nConteo de viajes por categoría de duración:\")\n",
    "print(df_raw['Tipo_viaje'].value_counts())"
   ]
  },
  {
   "cell_type": "code",
   "execution_count": 9,
   "id": "33681c5f",
   "metadata": {},
   "outputs": [
    {
     "data": {
      "text/html": [
       "<div>\n",
       "<style scoped>\n",
       "    .dataframe tbody tr th:only-of-type {\n",
       "        vertical-align: middle;\n",
       "    }\n",
       "\n",
       "    .dataframe tbody tr th {\n",
       "        vertical-align: top;\n",
       "    }\n",
       "\n",
       "    .dataframe thead th {\n",
       "        text-align: right;\n",
       "    }\n",
       "</style>\n",
       "<table border=\"1\" class=\"dataframe\">\n",
       "  <thead>\n",
       "    <tr style=\"text-align: right;\">\n",
       "      <th></th>\n",
       "      <th>Genero_Usuario</th>\n",
       "      <th>Edad_Usuario</th>\n",
       "      <th>Bici</th>\n",
       "      <th>Ciclo_Estacion_Retiro</th>\n",
       "      <th>Ciclo_EstacionArribo</th>\n",
       "      <th>Fecha_origen_recorrido</th>\n",
       "      <th>Fecha_destino_recorrido</th>\n",
       "      <th>Duracion_minutos</th>\n",
       "      <th>Tipo_viaje</th>\n",
       "    </tr>\n",
       "  </thead>\n",
       "  <tbody>\n",
       "    <tr>\n",
       "      <th>0</th>\n",
       "      <td>F</td>\n",
       "      <td>22.0</td>\n",
       "      <td>2586485</td>\n",
       "      <td>107-108</td>\n",
       "      <td>181</td>\n",
       "      <td>2025-03-31 23:34:46</td>\n",
       "      <td>2025-04-01 00:00:12</td>\n",
       "      <td>25.433333</td>\n",
       "      <td>Largo</td>\n",
       "    </tr>\n",
       "    <tr>\n",
       "      <th>1</th>\n",
       "      <td>M</td>\n",
       "      <td>50.0</td>\n",
       "      <td>8152522</td>\n",
       "      <td>384</td>\n",
       "      <td>387</td>\n",
       "      <td>2025-03-31 23:43:51</td>\n",
       "      <td>2025-04-01 00:00:16</td>\n",
       "      <td>16.416667</td>\n",
       "      <td>Medio</td>\n",
       "    </tr>\n",
       "    <tr>\n",
       "      <th>2</th>\n",
       "      <td>M</td>\n",
       "      <td>24.0</td>\n",
       "      <td>4219945</td>\n",
       "      <td>021</td>\n",
       "      <td>548</td>\n",
       "      <td>2025-03-31 23:42:36</td>\n",
       "      <td>2025-04-01 00:00:23</td>\n",
       "      <td>17.783333</td>\n",
       "      <td>Medio</td>\n",
       "    </tr>\n",
       "    <tr>\n",
       "      <th>3</th>\n",
       "      <td>M</td>\n",
       "      <td>32.0</td>\n",
       "      <td>2286540</td>\n",
       "      <td>271-272</td>\n",
       "      <td>450</td>\n",
       "      <td>2025-03-31 23:57:16</td>\n",
       "      <td>2025-04-01 00:00:31</td>\n",
       "      <td>3.250000</td>\n",
       "      <td>Corto</td>\n",
       "    </tr>\n",
       "    <tr>\n",
       "      <th>4</th>\n",
       "      <td>M</td>\n",
       "      <td>26.0</td>\n",
       "      <td>5017868</td>\n",
       "      <td>538</td>\n",
       "      <td>012</td>\n",
       "      <td>2025-03-31 23:46:23</td>\n",
       "      <td>2025-04-01 00:00:31</td>\n",
       "      <td>14.133333</td>\n",
       "      <td>Medio</td>\n",
       "    </tr>\n",
       "  </tbody>\n",
       "</table>\n",
       "</div>"
      ],
      "text/plain": [
       "  Genero_Usuario  Edad_Usuario     Bici Ciclo_Estacion_Retiro  \\\n",
       "0              F          22.0  2586485               107-108   \n",
       "1              M          50.0  8152522                   384   \n",
       "2              M          24.0  4219945                   021   \n",
       "3              M          32.0  2286540               271-272   \n",
       "4              M          26.0  5017868                   538   \n",
       "\n",
       "  Ciclo_EstacionArribo Fecha_origen_recorrido Fecha_destino_recorrido  \\\n",
       "0                  181    2025-03-31 23:34:46     2025-04-01 00:00:12   \n",
       "1                  387    2025-03-31 23:43:51     2025-04-01 00:00:16   \n",
       "2                  548    2025-03-31 23:42:36     2025-04-01 00:00:23   \n",
       "3                  450    2025-03-31 23:57:16     2025-04-01 00:00:31   \n",
       "4                  012    2025-03-31 23:46:23     2025-04-01 00:00:31   \n",
       "\n",
       "   Duracion_minutos Tipo_viaje  \n",
       "0         25.433333      Largo  \n",
       "1         16.416667      Medio  \n",
       "2         17.783333      Medio  \n",
       "3          3.250000      Corto  \n",
       "4         14.133333      Medio  "
      ]
     },
     "execution_count": 9,
     "metadata": {},
     "output_type": "execute_result"
    }
   ],
   "source": [
    "df_raw.head()"
   ]
  },
  {
   "cell_type": "code",
   "execution_count": 10,
   "id": "87e5df7a",
   "metadata": {},
   "outputs": [
    {
     "name": "stdout",
     "output_type": "stream",
     "text": [
      "Viajes atípicos encontrados: 7871\n"
     ]
    },
    {
     "data": {
      "text/html": [
       "<div>\n",
       "<style scoped>\n",
       "    .dataframe tbody tr th:only-of-type {\n",
       "        vertical-align: middle;\n",
       "    }\n",
       "\n",
       "    .dataframe tbody tr th {\n",
       "        vertical-align: top;\n",
       "    }\n",
       "\n",
       "    .dataframe thead th {\n",
       "        text-align: right;\n",
       "    }\n",
       "</style>\n",
       "<table border=\"1\" class=\"dataframe\">\n",
       "  <thead>\n",
       "    <tr style=\"text-align: right;\">\n",
       "      <th></th>\n",
       "      <th>Genero_Usuario</th>\n",
       "      <th>Edad_Usuario</th>\n",
       "      <th>Bici</th>\n",
       "      <th>Ciclo_Estacion_Retiro</th>\n",
       "      <th>Ciclo_EstacionArribo</th>\n",
       "      <th>Fecha_origen_recorrido</th>\n",
       "      <th>Fecha_destino_recorrido</th>\n",
       "      <th>Duracion_minutos</th>\n",
       "      <th>Tipo_viaje</th>\n",
       "    </tr>\n",
       "  </thead>\n",
       "  <tbody>\n",
       "    <tr>\n",
       "      <th>23</th>\n",
       "      <td>M</td>\n",
       "      <td>36.0</td>\n",
       "      <td>3715992</td>\n",
       "      <td>126</td>\n",
       "      <td>477</td>\n",
       "      <td>2025-03-31 21:54:33</td>\n",
       "      <td>2025-04-01 00:02:33</td>\n",
       "      <td>128.000000</td>\n",
       "      <td>Largo</td>\n",
       "    </tr>\n",
       "    <tr>\n",
       "      <th>27</th>\n",
       "      <td>M</td>\n",
       "      <td>27.0</td>\n",
       "      <td>3922341</td>\n",
       "      <td>052</td>\n",
       "      <td>477</td>\n",
       "      <td>2025-03-31 22:58:29</td>\n",
       "      <td>2025-04-01 00:02:50</td>\n",
       "      <td>64.350000</td>\n",
       "      <td>Largo</td>\n",
       "    </tr>\n",
       "    <tr>\n",
       "      <th>39</th>\n",
       "      <td>M</td>\n",
       "      <td>37.0</td>\n",
       "      <td>2128213</td>\n",
       "      <td>032</td>\n",
       "      <td>032</td>\n",
       "      <td>2025-03-31 22:58:45</td>\n",
       "      <td>2025-04-01 00:03:34</td>\n",
       "      <td>64.816667</td>\n",
       "      <td>Largo</td>\n",
       "    </tr>\n",
       "    <tr>\n",
       "      <th>42</th>\n",
       "      <td>?</td>\n",
       "      <td>27.0</td>\n",
       "      <td>6846612</td>\n",
       "      <td>052</td>\n",
       "      <td>477</td>\n",
       "      <td>2025-03-31 22:53:55</td>\n",
       "      <td>2025-04-01 00:03:46</td>\n",
       "      <td>69.850000</td>\n",
       "      <td>Largo</td>\n",
       "    </tr>\n",
       "    <tr>\n",
       "      <th>245</th>\n",
       "      <td>?</td>\n",
       "      <td>26.0</td>\n",
       "      <td>8280224</td>\n",
       "      <td>336</td>\n",
       "      <td>025</td>\n",
       "      <td>2025-03-31 22:31:18</td>\n",
       "      <td>2025-04-01 00:34:45</td>\n",
       "      <td>123.450000</td>\n",
       "      <td>Largo</td>\n",
       "    </tr>\n",
       "  </tbody>\n",
       "</table>\n",
       "</div>"
      ],
      "text/plain": [
       "    Genero_Usuario  Edad_Usuario     Bici Ciclo_Estacion_Retiro  \\\n",
       "23               M          36.0  3715992                   126   \n",
       "27               M          27.0  3922341                   052   \n",
       "39               M          37.0  2128213                   032   \n",
       "42               ?          27.0  6846612                   052   \n",
       "245              ?          26.0  8280224                   336   \n",
       "\n",
       "    Ciclo_EstacionArribo Fecha_origen_recorrido Fecha_destino_recorrido  \\\n",
       "23                   477    2025-03-31 21:54:33     2025-04-01 00:02:33   \n",
       "27                   477    2025-03-31 22:58:29     2025-04-01 00:02:50   \n",
       "39                   032    2025-03-31 22:58:45     2025-04-01 00:03:34   \n",
       "42                   477    2025-03-31 22:53:55     2025-04-01 00:03:46   \n",
       "245                  025    2025-03-31 22:31:18     2025-04-01 00:34:45   \n",
       "\n",
       "     Duracion_minutos Tipo_viaje  \n",
       "23         128.000000      Largo  \n",
       "27          64.350000      Largo  \n",
       "39          64.816667      Largo  \n",
       "42          69.850000      Largo  \n",
       "245        123.450000      Largo  "
      ]
     },
     "metadata": {},
     "output_type": "display_data"
    }
   ],
   "source": [
    "# Viajes atípicos: duración mayor a 1 hora\n",
    "if 'df_raw' in locals() and not df_raw.empty:\n",
    "    # Asegúrate de usar el nombre correcto de la columna de duración\n",
    "    viajes_atipicos = df_raw[df_raw['Duracion_minutos'] > 60]\n",
    "    print(f\"Viajes atípicos encontrados: {len(viajes_atipicos)}\")\n",
    "    display(viajes_atipicos.head())\n",
    "else:\n",
    "    print(\"No hay datos disponibles para analizar viajes atípicos.\")"
   ]
  },
  {
   "cell_type": "code",
   "execution_count": 11,
   "id": "64bc3f18",
   "metadata": {},
   "outputs": [
    {
     "name": "stdout",
     "output_type": "stream",
     "text": [
      "\n",
      "Visualización de la distribución de 'Genero_Usuario':\n",
      "\n",
      "Conteo de viajes por género:\n",
      "Genero_Usuario\n",
      "M    1177624\n",
      "F     484899\n",
      "O      32835\n",
      "?      32628\n",
      "Name: count, dtype: int64\n"
     ]
    },
    {
     "data": {
      "image/png": "[encoded data removed]",
      "text/plain": [
       "<Figure size 800x600 with 1 Axes>"
      ]
     },
     "metadata": {},
     "output_type": "display_data"
    }
   ],
   "source": [
    "# Visualizar la distribución de la variable categórica 'Genero_Usuario'\n",
    "print(\"\\nVisualización de la distribución de 'Genero_Usuario':\")\n",
    "print(\"\\nConteo de viajes por género:\")\n",
    "print(df_raw['Genero_Usuario'].value_counts())\n",
    "plt.figure(figsize=(8, 6))\n",
    "sns.countplot(data=df_raw, x='Genero_Usuario', palette='viridis', hue='Genero_Usuario', legend=False)\n",
    "plt.title('Distribución de Género')\n",
    "plt.xlabel('Género')\n",
    "plt.ylabel('Cantidad de Viajes')\n",
    "plt.show()"
   ]
  },
  {
   "cell_type": "code",
   "execution_count": 12,
   "id": "d692b7f7",
   "metadata": {},
   "outputs": [
    {
     "name": "stdout",
     "output_type": "stream",
     "text": [
      "Valores 'OTHER' y '?' en 'Genero_Usuario' reemplazados por 'O'.\n"
     ]
    }
   ],
   "source": [
    "# Limpieza de Genero\n",
    "df_raw['Genero_Usuario'] = df_raw['Genero_Usuario'].replace(['OTHER', '?'], 'O')\n",
    "print(\"Valores 'OTHER' y '?' en 'Genero_Usuario' reemplazados por 'O'.\")"
   ]
  },
  {
   "cell_type": "code",
   "execution_count": 13,
   "id": "27ab7330",
   "metadata": {},
   "outputs": [
    {
     "name": "stdout",
     "output_type": "stream",
     "text": [
      "\n",
      "Visualización de la distribución de 'Genero_Usuario':\n",
      "\n",
      "Conteo de viajes por género:\n",
      "Genero_Usuario\n",
      "M    1177624\n",
      "F     484899\n",
      "O      65463\n",
      "Name: count, dtype: int64\n"
     ]
    },
    {
     "data": {
      "image/png": "[encoded data removed]",
      "text/plain": [
       "<Figure size 800x600 with 1 Axes>"
      ]
     },
     "metadata": {},
     "output_type": "display_data"
    }
   ],
   "source": [
    "# Visualizar la distribución de la variable categórica 'Genero_Usuario'\n",
    "print(\"\\nVisualización de la distribución de 'Genero_Usuario':\")\n",
    "print(\"\\nConteo de viajes por género:\")\n",
    "print(df_raw['Genero_Usuario'].value_counts())\n",
    "plt.figure(figsize=(8, 6))\n",
    "sns.countplot(data=df_raw, x='Genero_Usuario', palette='viridis', hue='Genero_Usuario', legend=False)\n",
    "plt.title('Distribución de Género')\n",
    "plt.xlabel('Género')\n",
    "plt.ylabel('Cantidad de Viajes')\n",
    "plt.show()"
   ]
  },
  {
   "cell_type": "markdown",
   "id": "17d5c5e5",
   "metadata": {},
   "source": [
    "#### Predicción"
   ]
  },
  {
   "cell_type": "code",
   "execution_count": 14,
   "id": "cf79b830",
   "metadata": {},
   "outputs": [
    {
     "name": "stdout",
     "output_type": "stream",
     "text": [
      "Columna Duracion_predicha agregada para todo el dataset.\n",
      "Predicciones de duración (minutos):\n",
      "0    20.87\n",
      "1    15.39\n",
      "2    14.68\n",
      "3    15.46\n",
      "4    19.73\n",
      "5    17.06\n",
      "6    13.13\n",
      "7    19.10\n",
      "8    18.07\n",
      "9    18.17\n",
      "Name: Duracion_predicha, dtype: float64\n"
     ]
    }
   ],
   "source": [
    "# Ejemplo de regresión lineal para predecir la duración del viaje en todo el dataset\n",
    "from sklearn.linear_model import LinearRegression\n",
    "from sklearn.model_selection import train_test_split\n",
    "from sklearn.metrics import mean_squared_error\n",
    "from sklearn.preprocessing import LabelEncoder\n",
    "\n",
    "# Seleccionar variables predictoras (puedes agregar más según tu análisis)\n",
    "X = df_raw[['Edad_Usuario', 'Genero_Usuario', 'Ciclo_Estacion_Retiro', 'Ciclo_EstacionArribo']].copy()\n",
    "y = df_raw['Duracion_minutos']\n",
    "\n",
    "# Imputar valores nulos en las variables predictoras\n",
    "X['Edad_Usuario'] = X['Edad_Usuario'].fillna(X['Edad_Usuario'].median())\n",
    "X['Genero_Usuario'] = X['Genero_Usuario'].fillna('O')\n",
    "X['Ciclo_Estacion_Retiro'] = X['Ciclo_Estacion_Retiro'].fillna('Unknown')\n",
    "X['Ciclo_EstacionArribo'] = X['Ciclo_EstacionArribo'].fillna('Unknown')\n",
    "\n",
    "# Codificar variables categóricas\n",
    "le_genero = LabelEncoder()\n",
    "X['Genero_Usuario'] = le_genero.fit_transform(X['Genero_Usuario'])\n",
    "le_retiro = LabelEncoder()\n",
    "X['Ciclo_Estacion_Retiro'] = le_retiro.fit_transform(X['Ciclo_Estacion_Retiro'].astype(str))\n",
    "le_arribo = LabelEncoder()\n",
    "X['Ciclo_EstacionArribo'] = le_arribo.fit_transform(X['Ciclo_EstacionArribo'].astype(str))\n",
    "\n",
    "# Entrenar el modelo con todo el dataset\n",
    "modelo = LinearRegression()\n",
    "modelo.fit(X, y)\n",
    "\n",
    "# Predecir para todo el dataset\n",
    "df_raw['Duracion_predicha'] = modelo.predict(X)\n",
    "print('Columna Duracion_predicha agregada para todo el dataset.')\n",
    "\n",
    "# Mostrar algunas predicciones\n",
    "print(\"Predicciones de duración (minutos):\")\n",
    "print(np.round(df_raw['Duracion_predicha'].head(10), 2))"
   ]
  },
  {
   "cell_type": "code",
   "execution_count": 15,
   "id": "4f76457e",
   "metadata": {},
   "outputs": [
    {
     "name": "stdout",
     "output_type": "stream",
     "text": [
      "   Duracion_real  Duracion_predicha\n",
      "0      25.433333          20.872125\n",
      "1      16.416667          15.385475\n",
      "2      17.783333          14.679902\n",
      "3       3.250000          15.461239\n",
      "4      14.133333          19.727706\n",
      "5      18.900000          17.060613\n",
      "6      10.400000          13.127920\n",
      "7      13.450000          19.100133\n",
      "8       5.800000          18.073058\n",
      "9       8.716667          18.171715\n"
     ]
    },
    {
     "data": {
      "image/png": "[encoded data removed]",
      "text/plain": [
       "<Figure size 1000x500 with 1 Axes>"
      ]
     },
     "metadata": {},
     "output_type": "display_data"
    }
   ],
   "source": [
    "# Comparar duración real vs predicha para todo el dataset\n",
    "comparacion = pd.DataFrame({'Duracion_real': df_raw['Duracion_minutos'], 'Duracion_predicha': df_raw['Duracion_predicha']})\n",
    "print(comparacion.head(10))\n",
    "\n",
    "plt.figure(figsize=(10,5))\n",
    "plt.plot(comparacion['Duracion_real'].values[:50], label='Real', marker='o')\n",
    "plt.plot(comparacion['Duracion_predicha'].values[:50], label='Predicha', marker='x')\n",
    "plt.title('Comparación de duración real vs predicha (primeros 50 viajes)')\n",
    "plt.xlabel('Viaje')\n",
    "plt.ylabel('Duración (minutos)')\n",
    "plt.legend()\n",
    "plt.show()"
   ]
  },
  {
   "cell_type": "code",
   "execution_count": 16,
   "id": "3c1c8409",
   "metadata": {},
   "outputs": [
    {
     "data": {
      "text/html": [
       "<div>\n",
       "<style scoped>\n",
       "    .dataframe tbody tr th:only-of-type {\n",
       "        vertical-align: middle;\n",
       "    }\n",
       "\n",
       "    .dataframe tbody tr th {\n",
       "        vertical-align: top;\n",
       "    }\n",
       "\n",
       "    .dataframe thead th {\n",
       "        text-align: right;\n",
       "    }\n",
       "</style>\n",
       "<table border=\"1\" class=\"dataframe\">\n",
       "  <thead>\n",
       "    <tr style=\"text-align: right;\">\n",
       "      <th></th>\n",
       "      <th>Genero_Usuario</th>\n",
       "      <th>Edad_Usuario</th>\n",
       "      <th>Bici</th>\n",
       "      <th>Ciclo_Estacion_Retiro</th>\n",
       "      <th>Ciclo_EstacionArribo</th>\n",
       "      <th>Fecha_origen_recorrido</th>\n",
       "      <th>Fecha_destino_recorrido</th>\n",
       "      <th>Duracion_minutos</th>\n",
       "      <th>Tipo_viaje</th>\n",
       "      <th>Duracion_predicha</th>\n",
       "    </tr>\n",
       "  </thead>\n",
       "  <tbody>\n",
       "    <tr>\n",
       "      <th>0</th>\n",
       "      <td>F</td>\n",
       "      <td>22.0</td>\n",
       "      <td>2586485</td>\n",
       "      <td>107-108</td>\n",
       "      <td>181</td>\n",
       "      <td>2025-03-31 23:34:46</td>\n",
       "      <td>2025-04-01 00:00:12</td>\n",
       "      <td>25.433333</td>\n",
       "      <td>Largo</td>\n",
       "      <td>20.872125</td>\n",
       "    </tr>\n",
       "    <tr>\n",
       "      <th>1</th>\n",
       "      <td>M</td>\n",
       "      <td>50.0</td>\n",
       "      <td>8152522</td>\n",
       "      <td>384</td>\n",
       "      <td>387</td>\n",
       "      <td>2025-03-31 23:43:51</td>\n",
       "      <td>2025-04-01 00:00:16</td>\n",
       "      <td>16.416667</td>\n",
       "      <td>Medio</td>\n",
       "      <td>15.385475</td>\n",
       "    </tr>\n",
       "    <tr>\n",
       "      <th>2</th>\n",
       "      <td>M</td>\n",
       "      <td>24.0</td>\n",
       "      <td>4219945</td>\n",
       "      <td>021</td>\n",
       "      <td>548</td>\n",
       "      <td>2025-03-31 23:42:36</td>\n",
       "      <td>2025-04-01 00:00:23</td>\n",
       "      <td>17.783333</td>\n",
       "      <td>Medio</td>\n",
       "      <td>14.679902</td>\n",
       "    </tr>\n",
       "    <tr>\n",
       "      <th>3</th>\n",
       "      <td>M</td>\n",
       "      <td>32.0</td>\n",
       "      <td>2286540</td>\n",
       "      <td>271-272</td>\n",
       "      <td>450</td>\n",
       "      <td>2025-03-31 23:57:16</td>\n",
       "      <td>2025-04-01 00:00:31</td>\n",
       "      <td>3.250000</td>\n",
       "      <td>Corto</td>\n",
       "      <td>15.461239</td>\n",
       "    </tr>\n",
       "    <tr>\n",
       "      <th>4</th>\n",
       "      <td>M</td>\n",
       "      <td>26.0</td>\n",
       "      <td>5017868</td>\n",
       "      <td>538</td>\n",
       "      <td>012</td>\n",
       "      <td>2025-03-31 23:46:23</td>\n",
       "      <td>2025-04-01 00:00:31</td>\n",
       "      <td>14.133333</td>\n",
       "      <td>Medio</td>\n",
       "      <td>19.727706</td>\n",
       "    </tr>\n",
       "  </tbody>\n",
       "</table>\n",
       "</div>"
      ],
      "text/plain": [
       "  Genero_Usuario  Edad_Usuario     Bici Ciclo_Estacion_Retiro  \\\n",
       "0              F          22.0  2586485               107-108   \n",
       "1              M          50.0  8152522                   384   \n",
       "2              M          24.0  4219945                   021   \n",
       "3              M          32.0  2286540               271-272   \n",
       "4              M          26.0  5017868                   538   \n",
       "\n",
       "  Ciclo_EstacionArribo Fecha_origen_recorrido Fecha_destino_recorrido  \\\n",
       "0                  181    2025-03-31 23:34:46     2025-04-01 00:00:12   \n",
       "1                  387    2025-03-31 23:43:51     2025-04-01 00:00:16   \n",
       "2                  548    2025-03-31 23:42:36     2025-04-01 00:00:23   \n",
       "3                  450    2025-03-31 23:57:16     2025-04-01 00:00:31   \n",
       "4                  012    2025-03-31 23:46:23     2025-04-01 00:00:31   \n",
       "\n",
       "   Duracion_minutos Tipo_viaje  Duracion_predicha  \n",
       "0         25.433333      Largo          20.872125  \n",
       "1         16.416667      Medio          15.385475  \n",
       "2         17.783333      Medio          14.679902  \n",
       "3          3.250000      Corto          15.461239  \n",
       "4         14.133333      Medio          19.727706  "
      ]
     },
     "execution_count": 16,
     "metadata": {},
     "output_type": "execute_result"
    }
   ],
   "source": [
    "df_raw.head()"
   ]
  },
  {
   "cell_type": "markdown",
   "id": "8ecf507f",
   "metadata": {},
   "source": [
    "La predicción de la duración del viaje en esta base de datos es difícil porque faltan variables clave que influyen en el tiempo real de recorrido, como el tráfico, clima, eventos, condiciones de la bicicleta, y rutas tomadas. Además, los datos pueden contener valores atípicos, errores de registro y poca información sobre el contexto de cada viaje. Las variables disponibles (edad, género, estaciones) explican solo una parte del comportamiento, por lo que el modelo no puede capturar la complejidad real del fenómeno y su precisión es limitada."
   ]
  },
  {
   "cell_type": "code",
   "execution_count": null,
   "id": "c06d8eed",
   "metadata": {},
   "outputs": [
    {
     "name": "stdout",
     "output_type": "stream",
     "text": [
      "DataFrame guardado exitosamente en 'viajes_ecobici_cdmx.csv'\n",
      "DataFrame guardado exitosamente en 'viajes_ecobici_cdmx.parquet'\n"
     ]
    }
   ],
   "source": [
    "# Guardar el DataFrame en CSV y Parquet\n",
    "if not df_raw.empty:\n",
    "    guardado_csv = False\n",
    "    guardado_parquet = False\n",
    "    # Guardar como un nuevo archivo CSV.\n",
    "    try:\n",
    "        df_raw.to_csv(\"viajes_ecobici_cdmx.csv\", index=False)\n",
    "        guardado_csv = True\n",
    "    except Exception as e:\n",
    "        print(f\"Error al guardar el archivo CSV: {e}\")\n",
    "    # Guardar en formato Parquet.\n",
    "    try:\n",
    "        df_raw.to_parquet(\"viajes_ecobici_cdmx.parquet\", index=False)\n",
    "        guardado_parquet = True\n",
    "    except Exception as e:\n",
    "        print(f\"Error al guardar el archivo Parquet: {e}\")\n",
    "    if guardado_csv:\n",
    "        print(\"DataFrame guardado exitosamente en 'viajes_ecobici_cdmx.csv'\")\n",
    "    if guardado_parquet:\n",
    "        print(\"DataFrame guardado exitosamente en 'viajes_ecobici_cdmx.parquet'\")"
   ]
  }
 ],
 "metadata": {
  "kernelspec": {
   "display_name": "Python 3",
   "language": "python",
   "name": "python3"
  },
  "language_info": {
   "codemirror_mode": {
    "name": "ipython",
    "version": 3
   },
   "file_extension": ".py",
   "mimetype": "text/x-python",
   "name": "python",
   "nbconvert_exporter": "python",
   "pygments_lexer": "ipython3",
   "version": "3.10.11"
  }
 },
 "nbformat": 4,
 "nbformat_minor": 5
}
